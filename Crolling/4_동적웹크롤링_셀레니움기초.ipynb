{
 "cells": [
  {
   "cell_type": "markdown",
   "metadata": {},
   "source": [
    "# Selenium 웹 크롤링 기초\n",
    "\n",
    "## 1. Selenium 소개\n",
    "\n",
    "### Selenium이란?\n",
    "Selenium은 웹 브라우저를 자동화하는 도구입니다. 웹 테스트 자동화, 데이터 수집, 웹 스크래핑 등 다양한 용도로 사용됩니다.\n",
    "\n",
    "### 왜 Selenium을 사용하나요?\n",
    "* 동적 웹페이지 처리 가능\n",
    "* 실제 브라우저 동작 시뮬레이션\n",
    "* JavaScript로 생성되는 콘텐츠 수집 가능\n",
    "\n",
    "### 공식문서\n",
    "- Selenium 공식 문서: https://www.selenium.dev/documentation/\n",
    "- Python Selenium 튜토리얼: https://selenium-python.readthedocs.io/"
   ]
  },
  {
   "cell_type": "markdown",
   "metadata": {},
   "source": [
    "## 1. 환경 설정\n",
    "필요한 패키지를 설치하고 import 합니다."
   ]
  },
  {
   "cell_type": "code",
   "execution_count": null,
   "metadata": {},
   "outputs": [],
   "source": [
    "!pip install selenium webdriver-manager"
   ]
  },
  {
   "cell_type": "markdown",
   "metadata": {},
   "source": [
    "### 1.2 필요한 라이브러리 import"
   ]
  },
  {
   "cell_type": "code",
   "execution_count": 8,
   "metadata": {},
   "outputs": [],
   "source": [
    "from selenium import webdriver  # 웹드라이버 기본 모듈\n",
    "from selenium.webdriver.chrome.service import Service  # 크롬 서비스 관리 모듈\n",
    "from selenium.webdriver.chrome.options import Options  # 크롬 브라우저 옵션 설정 모듈\n",
    "from webdriver_manager.chrome import ChromeDriverManager  # 크롬드라이버 자동 관리 모듈\n",
    "from selenium.webdriver.common.by import By  # 요소 찾기 방법 지정 모듈\n",
    "from selenium.webdriver.support.ui import WebDriverWait  # 요소 대기 관리 모듈\n",
    "from selenium.webdriver.support import expected_conditions as EC  # 예상 조건 모듈\n",
    "import time # 시간 대기 모듈\n",
    "from selenium.webdriver.common.keys import Keys  # 키보드 입력 모듈"
   ]
  },
  {
   "cell_type": "markdown",
   "metadata": {},
   "source": [
    "## 2. 기본 브라우저 실행\n",
    "가장 기본적인 브라우저 실행 방법을 학습합니다."
   ]
  },
  {
   "cell_type": "code",
   "execution_count": 9,
   "metadata": {},
   "outputs": [
    {
     "name": "stdout",
     "output_type": "stream",
     "text": [
      "페이지 제목: Google\n"
     ]
    }
   ],
   "source": [
    "# 크롬드라이버 설정\n",
    "service = Service(ChromeDriverManager().install())\n",
    "\n",
    "# 크롬 브라우저 옵션 설정\n",
    "chrome_options = Options()\n",
    "chrome_options.add_argument('--start-maximized')  # 브라우저를 최대화하여 시작\n",
    "# chrome_options.add_argument('--headless')  # 화면 없이 백그라운드에서 실행하고 싶을 때 사용\n",
    "\n",
    "# 크롬 브라우저 실행\n",
    "driver = webdriver.Chrome(service=service, options=chrome_options)\n",
    "\n",
    "# 웹페이지 접속\n",
    "driver.get(\"https://www.google.com\")\n",
    "\n",
    "# 현재 페이지의 제목 출력\n",
    "print(\"페이지 제목:\", driver.title)\n",
    "\n",
    "# 브라우저 종료\n",
    "driver.quit()"
   ]
  },
  {
   "cell_type": "markdown",
   "metadata": {},
   "source": [
    "## 3. 웹 조작하기\n",
    "다양한 방법으로 웹을 조작해 봅니다."
   ]
  },
  {
   "cell_type": "code",
   "execution_count": 19,
   "metadata": {},
   "outputs": [
    {
     "name": "stdout",
     "output_type": "stream",
     "text": [
      "검색 결과 페이지 제목: Python Selenium - Google 검색\n"
     ]
    }
   ],
   "source": [
    "# 드라이버 설정\n",
    "driver = webdriver.Chrome(service=Service(ChromeDriverManager().install()))\n",
    "\n",
    "# 구글 접속\n",
    "driver.get(\"https://www.google.com\")\n",
    "\n",
    "# 1. name 속성으로 검색창 찾기 (HTML의 name 속성값 사용)\n",
    "# 예: <input name=\"q\">\n",
    "search_box = driver.find_element(By.NAME, \"q\")\n",
    "\n",
    "# 2. ID로 요소 찾기 예시 (HTML의 id 속성값 사용)\n",
    "# 예: <div id=\"searchbox\">\n",
    "# search_element = driver.find_element(By.ID, \"searchbox\")\n",
    "\n",
    "# 3. CSS 선택자로 요소 찾기 예시\n",
    "# 예: <div class=\"search-container\">\n",
    "# search_container = driver.find_element(By.CSS_SELECTOR, \".search-container\")\n",
    "\n",
    "# 4. 클래스 이름으로 요소 찾기 예시\n",
    "# 예: <div class=\"search-box\">\n",
    "# search_box = driver.find_element(By.CLASS_NAME, \"search-box\")\n",
    "\n",
    "# 4. XPath로 요소 찾기 예시\n",
    "# - XML Path Language의 약자로 XML 문서의 특정 요소나 속성에 접근하기 위한 경로를 지정하는 언어\n",
    "# 예: <div class=\"search-box\" id=\"search\">검색</div>\n",
    "# search_box = driver.find_element(By.XPATH, \"//*[@id=\"searchbox\"]\")  \n",
    "\n",
    "# 검색어 입력\n",
    "search_box.clear()  # 검색창 텍스트 지우기\n",
    "search_box.send_keys(\"Python Selenium\") \n",
    "\n",
    "# 엔터키 입력 (Keys.RETURN 또는 Keys.ENTER 사용 가능)\n",
    "search_box.send_keys(Keys.RETURN)  # 또는 Keys.ENTER 사용 가능\n",
    "\n",
    "# 잠시 대기 (결과 확인용)\n",
    "time.sleep(5)\n",
    "\n",
    "# 검색 결과 페이지 제목 출력\n",
    "print(\"검색 결과 페이지 제목:\", driver.title)\n",
    "\n",
    "# 브라우저 종료\n",
    "driver.quit() "
   ]
  },
  {
   "cell_type": "markdown",
   "metadata": {},
   "source": [
    "## 4. 대기(Wait) 조건 예제\n",
    "\n",
    "1. `presence_of_element_located`:\n",
    "- HTML DOM에 요소가 존재하는지만 확인\n",
    "- 요소가 화면에 보이지 않아도 됨 (숨겨져 있어도 OK)\n",
    "- 예시: 숨겨진 입력 필드나 화면 밖에 있는 요소도 감지\n",
    "\n",
    "```html\n",
    "<!-- 이 요소는 DOM에 존재하지만 화면에 보이지 않음 -->\n",
    "<input name=\"q\" style=\"display: none;\">\n",
    "```\n",
    "\n",
    "2. `element_to_be_clickable`:\n",
    "- 요소가 DOM에 존재하고\n",
    "- 화면에 보이며 (visible)\n",
    "- 클릭이 가능한 상태인지 확인 (disabled 아님)\n",
    "- 예시: 로딩이 끝나고 실제로 클릭 가능한 버튼\n",
    "\n",
    "```html\n",
    "<!-- 이 버튼은 존재하고 보이지만 클릭할 수 없음 -->\n",
    "<button name=\"btnK\" disabled>검색</button>\n",
    "```\n",
    "\n",
    "3. `visibility_of_element_located`:\n",
    "- 요소가 DOM에 존재하고\n",
    "- 화면에 실제로 보이는지 (visible) 확인\n",
    "- 클릭 가능 여부는 확인하지 않음\n",
    "- 예시: 애니메이션이 끝나고 화면에 나타난 메시지\n",
    "\n",
    "실제 사용 시 팁:\n",
    "1. 일반적인 요소 확인 시: `presence_of_element_located` 사용\n",
    "2. 버튼이나 링크 클릭 시: `element_to_be_clickable` 사용\n",
    "3. 화면에 표시되는 결과 확인 시: `visibility_of_element_located` 사용\n"
   ]
  },
  {
   "cell_type": "code",
   "execution_count": 21,
   "metadata": {},
   "outputs": [
    {
     "name": "stdout",
     "output_type": "stream",
     "text": [
      "검색 완료!\n"
     ]
    }
   ],
   "source": [
    "# 드라이버 설정\n",
    "driver = webdriver.Chrome(service=Service(ChromeDriverManager().install()))\n",
    "driver.get(\"https://www.google.com\")\n",
    "\n",
    "# 명시적 대기(Explicit Wait) 설정 - 최대 10초\n",
    "wait = WebDriverWait(driver, 10)\n",
    "\n",
    "# 1. 검색창이 나타날 때까지 대기\n",
    "search_box = wait.until(\n",
    "    EC.presence_of_element_located((By.NAME, \"q\"))\n",
    ")\n",
    "\n",
    "# 2. 요소가 클릭 가능할 때까지 대기 예시\n",
    "# button = wait.until(\n",
    "#     EC.element_to_be_clickable((By.NAME, \"btnK\"))\n",
    "# )\n",
    "\n",
    "# 3. 요소가 화면에 보일 때까지 대기 예시\n",
    "# element = wait.until(\n",
    "#     EC.visibility_of_element_located((By.ID, \"result\"))\n",
    "# )\n",
    "\n",
    "# 검색어 입력\n",
    "search_box.send_keys(\"Python Selenium Tutorial\")\n",
    "\n",
    "# 검색 버튼이 클릭 가능할 때까지 대기 후 클릭\n",
    "search_button = wait.until(\n",
    "    EC.element_to_be_clickable((By.NAME, \"btnK\")) #검색 버튼 이름\n",
    ")\n",
    "search_button.click()\n",
    "\n",
    "# 검색 결과가 로드될 때까지 대기\n",
    "wait.until(\n",
    "    EC.presence_of_element_located((By.ID, \"rso\")) #본문 ID\n",
    ")\n",
    "\n",
    "print(\"검색 완료!\")\n",
    "\n",
    "# 잠시 대기 (결과 확인용)\n",
    "time.sleep(5)\n",
    "\n",
    "# 브라우저 종료\n",
    "driver.quit()"
   ]
  },
  {
   "cell_type": "markdown",
   "metadata": {},
   "source": [
    "## 5. 스크롤 처리 예제"
   ]
  },
  {
   "cell_type": "code",
   "execution_count": 22,
   "metadata": {},
   "outputs": [
    {
     "name": "stdout",
     "output_type": "stream",
     "text": [
      "500픽셀만큼 스크롤!\n",
      "부드러운 스크롤 완료!\n",
      "페이지 끝까지 스크롤 완료!\n",
      "페이지 처음으로 스크롤!\n"
     ]
    }
   ],
   "source": [
    "# 드라이버 설정\n",
    "driver = webdriver.Chrome(service=Service(ChromeDriverManager().install()))\n",
    "driver.get(\"https://play.google.com/store/apps?hl=ko\")\n",
    "\n",
    "# 특정 픽셀만큼 스크롤\n",
    "driver.execute_script(\"window.scrollTo(0, 500);\")  # 위에서 500픽셀 아래로\n",
    "print(\"500픽셀만큼 스크롤!\")\n",
    "time.sleep(1)\n",
    "\n",
    "# 부드러운 스크롤 (위에서 아래로)\n",
    "for i in range(5):\n",
    "    # 100픽셀씩 스크롤\n",
    "    driver.execute_script(f\"window.scrollTo(0, {500+i * 100});\")\n",
    "    time.sleep(1)  # 1초 간격으로 스크롤\n",
    "print(\"부드러운 스크롤 완료!\")\n",
    "\n",
    "# 페이지 맨 아래로 스크롤\n",
    "driver.execute_script(\"window.scrollTo(0, document.body.scrollHeight);\")\n",
    "print(\"페이지 끝까지 스크롤 완료!\")\n",
    "time.sleep(1)  # 스크롤 동작 확인을 위한 대기\n",
    "\n",
    "# 페이지 맨 위로 스크롤\n",
    "driver.execute_script(\"window.scrollTo(0, 0);\")\n",
    "print(\"페이지 처음으로 스크롤!\")\n",
    "time.sleep(1)\n",
    "\n",
    "# 브라우저 종료\n",
    "driver.quit()"
   ]
  },
  {
   "cell_type": "markdown",
   "metadata": {},
   "source": [
    "## 6. JavaScript 실행 예시"
   ]
  },
  {
   "cell_type": "code",
   "execution_count": 23,
   "metadata": {},
   "outputs": [],
   "source": [
    "# 드라이버 설정\n",
    "driver = webdriver.Chrome(service=Service(ChromeDriverManager().install()))\n",
    "driver.get(\"https://play.google.com/store/apps?hl=ko\")\n",
    "\n",
    "# 예1: 요소 클릭 (일반적인 click()이 작동하지 않을 때 사용)\n",
    "element = driver.find_element(By.XPATH, '//*[@id=\"9\"]/span[2]') # 영화 메뉴 탭 클릭 함\n",
    "# element.click()\n",
    "driver.execute_script(\"arguments[0].click();\", element)\n",
    "time.sleep(2)\n",
    "\n",
    "# 예2: 스크롤\n",
    "driver.execute_script(\"window.scrollTo(0, 500)\")  # 500픽셀 아래로 스크롤\n",
    "time.sleep(2)\n",
    "\n",
    "# 예3: Alert 띄우기\n",
    "driver.execute_script(\"alert('hello world')\")\n",
    "time.sleep(2)\n",
    "\n",
    "# 브라우저 종료\n",
    "driver.quit()"
   ]
  },
  {
   "cell_type": "markdown",
   "metadata": {},
   "source": [
    "## 6. 실전 예제: 구글 검색 결과 수집"
   ]
  },
  {
   "cell_type": "code",
   "execution_count": 24,
   "metadata": {},
   "outputs": [
    {
     "name": "stdout",
     "output_type": "stream",
     "text": [
      "\n",
      "검색 결과:\n",
      "1. 인공지능(AI)이란 무엇인가요? - Google Cloud\n",
      "2. 인공지능\n",
      "3. 인공지능 - 위키백과, 우리 모두의 백과사전\n",
      "4. 인공 지능(AI)이란? | 용어 해설\n",
      "5. 인공 지능(AI)이란 무엇입니까?\n"
     ]
    }
   ],
   "source": [
    "# 드라이버 설정\n",
    "driver = webdriver.Chrome(service=Service(ChromeDriverManager().install()))\n",
    "wait = WebDriverWait(driver, 10)\n",
    "\n",
    "try:\n",
    "    # 구글 접속\n",
    "    driver.get(\"https://www.google.com\")\n",
    "\n",
    "    # 검색창 찾기 및 검색어 입력\n",
    "    search_box = wait.until(\n",
    "        EC.presence_of_element_located((By.NAME, \"q\"))\n",
    "    )\n",
    "    search_box.send_keys(\"인공지능\")\n",
    "\n",
    "    # 검색 버튼 클릭\n",
    "    search_button = wait.until(\n",
    "        EC.element_to_be_clickable((By.NAME, \"btnK\"))\n",
    "    )\n",
    "    search_button.click()\n",
    "\n",
    "    # 검색 결과 수집 (제목만 수집)\n",
    "    search_results = wait.until(\n",
    "        EC.presence_of_all_elements_located((By.CSS_SELECTOR, \"h3\"))\n",
    "    )\n",
    "\n",
    "    # 결과 출력\n",
    "    print(\"\\n검색 결과:\")\n",
    "    for idx, result in enumerate(search_results[:5], 1):\n",
    "        print(f\"{idx}. {result.text}\")\n",
    "\n",
    "except Exception as e:\n",
    "    print(f\"오류 발생: {e}\")\n",
    "\n",
    "finally:\n",
    "    driver.quit()"
   ]
  },
  {
   "cell_type": "markdown",
   "metadata": {},
   "source": [
    "### 스크롤을 통한 모든 검색 결과 얻기"
   ]
  },
  {
   "cell_type": "code",
   "execution_count": 26,
   "metadata": {},
   "outputs": [
    {
     "name": "stdout",
     "output_type": "stream",
     "text": [
      "\n",
      "검색 결과:\n",
      "1. 인공지능(AI)이란 무엇인가요? - Google Cloud\n",
      "2. 인공지능\n",
      "3. \n",
      "4. \n",
      "5. \n",
      "6. \n",
      "7. 인공지능 - 위키백과, 우리 모두의 백과사전\n",
      "8. 인공 지능(AI)이란? | 용어 해설\n",
      "9. 인공 지능(AI)이란 무엇입니까?\n",
      "10. (사)한국인공지능협회\n",
      "11. AI 허브\n",
      "12. 인공지능(AI) 이란 무엇인가요?\n",
      "13. 인공 지능(AI)이란, AI가 중요한 이유\n",
      "14. AI타임스\n"
     ]
    }
   ],
   "source": [
    "# 드라이버 설정\n",
    "driver = webdriver.Chrome(service=Service(ChromeDriverManager().install()))\n",
    "wait = WebDriverWait(driver, 10)\n",
    "\n",
    "try:\n",
    "    # 구글 접속\n",
    "    driver.get(\"https://www.google.com\")\n",
    "    \n",
    "    # 검색창 찾기 및 검색어 입력\n",
    "    search_box = wait.until(\n",
    "        EC.presence_of_element_located((By.NAME, \"q\"))\n",
    "    )\n",
    "    search_box.send_keys(\"인공지능\")\n",
    "    search_box.send_keys(Keys.RETURN)\n",
    "    \n",
    "    # 초기 대기\n",
    "    time.sleep(2)\n",
    "    \n",
    "    # 페이지 끝까지 스크롤\n",
    "    last_height = driver.execute_script(\"return document.body.scrollHeight\")\n",
    "    while True:\n",
    "        # 페이지 끝까지 스크롤\n",
    "        driver.execute_script(\"window.scrollTo(0, document.body.scrollHeight);\")\n",
    "        \n",
    "        # 새로운 내용이 로드될 때까지 대기\n",
    "        time.sleep(2)\n",
    "        \n",
    "        # 새로운 높이 계산\n",
    "        new_height = driver.execute_script(\"return document.body.scrollHeight\")\n",
    "        \n",
    "        # 더 이상 스크롤이 되지 않으면 종료\n",
    "        if new_height == last_height:\n",
    "            break\n",
    "            \n",
    "        last_height = new_height\n",
    "    \n",
    "    # 모든 검색 결과 수집\n",
    "    search_results = driver.find_elements(By.CSS_SELECTOR, \"h3\")\n",
    "    \n",
    "    # 결과 출력\n",
    "    print(\"\\n검색 결과:\")\n",
    "    for idx, result in enumerate(search_results, 1):\n",
    "        print(f\"{idx}. {result.text}\")\n",
    "        \n",
    "except Exception as e:\n",
    "    print(f\"오류 발생: {e}\")\n",
    "\n",
    "finally:\n",
    "    driver.quit()"
   ]
  }
 ],
 "metadata": {
  "kernelspec": {
   "display_name": "Python 3",
   "language": "python",
   "name": "python3"
  },
  "language_info": {
   "codemirror_mode": {
    "name": "ipython",
    "version": 3
   },
   "file_extension": ".py",
   "mimetype": "text/x-python",
   "name": "python",
   "nbconvert_exporter": "python",
   "pygments_lexer": "ipython3",
   "version": "3.9.13"
  }
 },
 "nbformat": 4,
 "nbformat_minor": 2
}
