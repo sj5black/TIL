{
 "cells": [
  {
   "cell_type": "markdown",
   "metadata": {},
   "source": [
    "# BeautifulSoup 실습 자료\n",
    "실습을 통해 웹 크롤링의 기본을 배워봅시다!"
   ]
  },
  {
   "cell_type": "markdown",
   "metadata": {},
   "source": [
    "BeautifulSoup의 주요 메서드\n",
    "\n",
    "1. **기본 요소 찾기**\n",
    "```python\n",
    "# 단일 요소 찾기\n",
    "soup.find('태그명')  # 첫 번째 일치하는 태그 찾기\n",
    "soup.find(id='아이디명')  # id로 찾기\n",
    "soup.find(class_='클래스명')  # class로 찾기\n",
    "\n",
    "# 여러 요소 찾기\n",
    "soup.find_all('태그명')  # 모든 일치하는 태그 찾기\n",
    "soup.find_all(['태그1', '태그2'])  # 여러 태그 동시에 찾기\n",
    "soup.find_all('태그명', limit=2)  # 개수 제한하여 찾기\n",
    "```\n",
    "\n",
    "2. **CSS 선택자**\n",
    "```python\n",
    "soup.select('CSS선택자')  # CSS 선택자로 모든 요소 찾기\n",
    "soup.select_one('CSS선택자')  # CSS 선택자로 첫 요소 찾기\n",
    "\n",
    "# 예시\n",
    "soup.select('.클래스명')  # 클래스로 찾기\n",
    "soup.select('#아이디명')  # id로 찾기\n",
    "soup.select('div p')  # div 안의 모든 p 태그 찾기\n",
    "```\n",
    "\n",
    "3. **요소 탐색**\n",
    "```python\n",
    "# 상하 관계\n",
    "element.parent  # 부모 요소\n",
    "element.parents  # 모든 상위 요소들\n",
    "element.children  # 직계 자식 요소들\n",
    "element.descendants  # 모든 하위 요소들\n",
    "\n",
    "# 형제 관계\n",
    "element.next_sibling  # 다음 형제\n",
    "element.previous_sibling  # 이전 형제\n",
    "element.find_next_siblings()  # 다음 형제들 모두\n",
    "element.find_previous_siblings()  # 이전 형제들 모두\n",
    "```\n",
    "\n",
    "4. **콘텐츠 추출**\n",
    "```python\n",
    "element.text  # 텍스트 내용 추출\n",
    "element.get_text()  # 텍스트 내용 추출 (옵션 지정 가능)\n",
    "element.string  # 직계 텍스트만 추출\n",
    "element.stripped_strings  # 공백 제거된 텍스트들 추출\n",
    "```\n",
    "\n",
    "5. **속성 다루기**\n",
    "```python\n",
    "element['속성명']  # 속성값 직접 접근\n",
    "element.get('속성명')  # 속성값 안전하게 가져오기\n",
    "element.get('속성명', '기본값')  # 없으면 기본값 반환\n",
    "element.attrs  # 모든 속성을 딕셔너리로 가져오기\n",
    "```\n",
    "\n",
    "6. **실전에서 자주 쓰는 조합**\n",
    "```python\n",
    "# 특정 조건의 요소 찾기\n",
    "soup.find('div', class_='container')\n",
    "soup.find('태그', attrs={'id': 'ID', 'class': 'CLASS'})\n",
    "\n",
    "# 여러 단계 탐색\n",
    "soup.find('div').find('p').find('span')\n",
    "```\n",
    "\n",
    "주의사항:\n",
    "1. 요소가 없을 수 있으므로 None 체크 필요\n",
    "2. 텍스트 추출 시 공백 처리 고려\n",
    "3. 복잡한 구조는 단계별 접근이 안전\n",
    "4. 속성 접근 시 get() 메서드 권장"
   ]
  },
  {
   "cell_type": "markdown",
   "metadata": {},
   "source": [
    "## 1. 기본 설정"
   ]
  },
  {
   "cell_type": "code",
   "execution_count": null,
   "metadata": {},
   "outputs": [],
   "source": [
    "# 필요한 라이브러리 설치\n",
    "!pip install beautifulsoup4"
   ]
  },
  {
   "cell_type": "code",
   "execution_count": 2,
   "metadata": {},
   "outputs": [],
   "source": [
    "# 라이브러리 임포트\n",
    "from bs4 import BeautifulSoup\n",
    "\n",
    "# 실습용 예제 HTML\n",
    "sample_html = \"\"\"\n",
    "<html>\n",
    "    <body>\n",
    "        <div class=\"container\">\n",
    "            <h1 id=\"title\">제목</h1>\n",
    "            <p class=\"content\">첫 번째 문단</p>\n",
    "            <p class=\"content\">두 번째 문단</p>\n",
    "            <ul class=\"items\">\n",
    "                <li>항목1</li>\n",
    "                <li>항목2</li>\n",
    "            </ul>\n",
    "            <a href=\"https://example.com\">링크</a>\n",
    "        </div>\n",
    "    </body>\n",
    "</html>\n",
    "\"\"\""
   ]
  },
  {
   "cell_type": "code",
   "execution_count": 3,
   "metadata": {},
   "outputs": [],
   "source": [
    "# BeautifulSoup 객체 생성\n",
    "soup = BeautifulSoup(sample_html, 'html.parser')"
   ]
  },
  {
   "cell_type": "markdown",
   "metadata": {},
   "source": [
    "## 2. 기본적인 요소 찾기\n",
    "\n",
    "### 2.1 단일 요소 찾기 (find)"
   ]
  },
  {
   "cell_type": "code",
   "execution_count": null,
   "metadata": {},
   "outputs": [],
   "source": [
    "# 첫 번째 p 태그 찾기\n",
    "first_p = soup.find('p')\n",
    "print(\"첫 번째 p 태그:\", first_p.text)  # 출력: 첫 번째 문단\n",
    "\n",
    "# id로 요소 찾기\n",
    "title = soup.find(id='title')\n",
    "print(\"제목:\", title.text)  # 출력: 제목\n",
    "\n",
    "# class로 요소 찾기\n",
    "container = soup.find(class_='container')\n",
    "print(\"container 존재 여부:\", container is not None)  # 출력: True"
   ]
  },
  {
   "cell_type": "markdown",
   "metadata": {},
   "source": [
    "### 2.2 여러 요소 찾기 (find_all)"
   ]
  },
  {
   "cell_type": "code",
   "execution_count": null,
   "metadata": {},
   "outputs": [],
   "source": [
    "# 모든 p 태그 찾기\n",
    "all_p = soup.find_all('p')\n",
    "print(\"\\n모든 p 태그 내용:\")\n",
    "for p in all_p:\n",
    "    print(\"-\", p.text)  # 출력: - 첫 번째 문단, - 두 번째 문단\n",
    "\n",
    "# 모든 li 태그 찾기\n",
    "items = soup.find_all('li')\n",
    "print(\"\\n리스트 항목:\")\n",
    "for item in items:\n",
    "    print(\"-\", item.text)  # 출력: - 항목1, - 항목2"
   ]
  },
  {
   "cell_type": "markdown",
   "metadata": {},
   "source": [
    "### 2.3 CSS 선택자 사용하기"
   ]
  },
  {
   "cell_type": "code",
   "execution_count": null,
   "metadata": {},
   "outputs": [],
   "source": [
    "# class가 content인 모든 요소 찾기\n",
    "content_elements = soup.select('.content')\n",
    "print(\"\\ncontent 클래스 내용:\")\n",
    "for element in content_elements:\n",
    "    print(\"-\", element.text)\n",
    "\n",
    "# id가 title인 요소 찾기\n",
    "title = soup.select('#title')\n",
    "print(\"\\n제목:\", title[0].text if title else \"없음\")\n",
    "\n",
    "# container 클래스 안의 모든 p 태그 찾기\n",
    "container_p = soup.select('.container p')\n",
    "print(\"\\ncontainer 안의 p 태그들:\")\n",
    "for p in container_p:\n",
    "    print(\"-\", p.text)"
   ]
  },
  {
   "cell_type": "markdown",
   "metadata": {},
   "source": [
    "### 2.4 속성 다루기"
   ]
  },
  {
   "cell_type": "code",
   "execution_count": null,
   "metadata": {},
   "outputs": [],
   "source": [
    "# 링크의 href 속성 가져오기\n",
    "link = soup.find('a')\n",
    "print(\"\\n링크 주소:\", link['href'])  # 출력: https://example.com\n",
    "print(\"링크 텍스트:\", link.text)    # 출력: 링크\n",
    "\n",
    "# 안전하게 속성 가져오기\n",
    "print(\"링크 주소 (get 사용):\", link.get('href'))  # 출력: https://example.com\n",
    "print(\"없는 속성:\", link.get('title', '기본값'))  # 출력: 기본값"
   ]
  },
  {
   "cell_type": "markdown",
   "metadata": {},
   "source": [
    "### 2.5 요소 탐색하기"
   ]
  },
  {
   "cell_type": "code",
   "execution_count": null,
   "metadata": {},
   "outputs": [],
   "source": [
    "# 1. 부모 요소 찾기\n",
    "p_tag = soup.find('p')\n",
    "parent_div = p_tag.parent\n",
    "print(\"p 태그의 부모 class:\", parent_div.get('class'))  # 출력: ['container']\n"
   ]
  },
  {
   "cell_type": "code",
   "execution_count": null,
   "metadata": {},
   "outputs": [],
   "source": [
    "# 2. 자식 요소 찾기\n",
    "container = soup.find('div', class_='container')\n",
    "print(\"\\n컨테이너의 직계 자식들:\")\n",
    "for child in container.children:\n",
    "    if child.name:  # 공백 텍스트 제외\n",
    "        print(\"-\", child.name)  # h1, p, p, ul, a 출력"
   ]
  },
  {
   "cell_type": "code",
   "execution_count": null,
   "metadata": {},
   "outputs": [],
   "source": [
    "# 3. 형제 요소 탐색\n",
    "first_p = soup.find('p')\n",
    "print(\"\\n첫 번째 p의 다음 형제:\")\n",
    "next_sibling = first_p.find_next_sibling()  # 두 번째 p\n",
    "print(\"다음 형제 텍스트:\", next_sibling.text)  # 출력: 두 번째 문단\n",
    "\n",
    "second_p = next_sibling\n",
    "print(\"두 번째 p의 이전 형제:\")\n",
    "prev_sibling = second_p.find_previous_sibling()  # 첫 번째 p\n",
    "print(\"이전 형제 텍스트:\", prev_sibling.text)  # 출력: 첫 번째 문단"
   ]
  },
  {
   "cell_type": "code",
   "execution_count": null,
   "metadata": {},
   "outputs": [],
   "source": [
    "# 4. 모든 형제 요소 찾기\n",
    "print(\"\\nul 태그 이후의 모든 형제:\")\n",
    "ul_tag = soup.find('ul')\n",
    "for sibling in ul_tag.find_next_siblings():\n",
    "    print(\"-\", sibling.name, \":\", sibling.text)"
   ]
  },
  {
   "cell_type": "code",
   "execution_count": null,
   "metadata": {},
   "outputs": [],
   "source": [
    "# 5. 특정 요소의 모든 상위 요소 찾기\n",
    "li_tag = soup.find('li')\n",
    "print(\"\\n첫 번째 li의 모든 상위 요소:\")\n",
    "for parent in li_tag.parents:\n",
    "    if parent.name:\n",
    "        print(\"-\", parent.name)"
   ]
  },
  {
   "cell_type": "markdown",
   "metadata": {},
   "source": [
    "### 2.6 여러 속성 동시 검색"
   ]
  },
  {
   "cell_type": "code",
   "execution_count": 39,
   "metadata": {},
   "outputs": [],
   "source": [
    "from bs4 import BeautifulSoup\n",
    "\n",
    "# 예시 HTML\n",
    "html = \"\"\"\n",
    "<html>\n",
    "    <body>\n",
    "        <div class=\"container\" id=\"main\">메인 컨테이너</div>\n",
    "        <div class=\"container\" id=\"sub\">서브 컨테이너</div>\n",
    "        <div class=\"content\" id=\"article\">\n",
    "            <p class=\"text\" id=\"first\">첫 번째 문단</p>\n",
    "            <p class=\"text highlight\" id=\"second\">두 번째 문단</p>\n",
    "        </div>\n",
    "        <span class=\"text\" data-type=\"info\">추가 정보</span>\n",
    "        <p class=\"text highlight\" id=\"third\">세 번째 문단</p>\n",
    "        <div class=\"container\">푸터 컨테이너</div>\n",
    "    </body>\n",
    "</html>\n",
    "\"\"\"\n",
    "\n",
    "soup = BeautifulSoup(html, 'html.parser')"
   ]
  },
  {
   "cell_type": "code",
   "execution_count": 26,
   "metadata": {},
   "outputs": [
    {
     "name": "stdout",
     "output_type": "stream",
     "text": [
      "1. class='text'이고 id='first'인 p태그:\n",
      "- 첫 번째 문단\n"
     ]
    }
   ],
   "source": [
    "# 1. 기본적인 다중 속성 검색\n",
    "result1 = soup.find('p', attrs={'class': 'text', 'id': 'first'})\n",
    "print(\"1. class='text'이고 id='first'인 p태그:\")\n",
    "print(f\"- {result1.text}\")  # 출력: 첫 번째 문단"
   ]
  },
  {
   "cell_type": "markdown",
   "metadata": {},
   "source": [
    "### 2.7 css셀럭트로 계층적 탐색"
   ]
  },
  {
   "cell_type": "code",
   "execution_count": 28,
   "metadata": {},
   "outputs": [
    {
     "name": "stdout",
     "output_type": "stream",
     "text": [
      "1. 직계 자식 선택자:\n",
      "- 첫 번째 문단\n",
      "- 두 번째 문단\n"
     ]
    }
   ],
   "source": [
    "# 1. 직계 자식 선택자 (>) 사용\n",
    "print(\"1. 직계 자식 선택자:\")\n",
    "elements1 = soup.select(\"div.content > p.text\")\n",
    "for elem in elements1:\n",
    "   print(f\"- {elem.text}\")  # 첫 번째 문단, 두 번째 문단 출력"
   ]
  },
  {
   "cell_type": "code",
   "execution_count": 30,
   "metadata": {},
   "outputs": [
    {
     "name": "stdout",
     "output_type": "stream",
     "text": [
      "\n",
      "2. 여러 단계 선택자:\n",
      "- 첫 번째 문단\n",
      "- 두 번째 문단\n",
      "- 세 번째 문단\n"
     ]
    }
   ],
   "source": [
    "# 2-1. 자손 탐색\n",
    "print(\"\\n2. 여러 단계 선택자:\")\n",
    "elements2 = soup.select(\"div.content p.text\")\n",
    "for elem in elements2:\n",
    "   print(f\"- {elem.text}\")"
   ]
  },
  {
   "cell_type": "code",
   "execution_count": 31,
   "metadata": {},
   "outputs": [
    {
     "name": "stdout",
     "output_type": "stream",
     "text": [
      "\n",
      "2. 여러 단계 선택자:\n",
      "- 첫 번째 문단\n",
      "- 두 번째 문단\n",
      "- 세 번째 문단\n"
     ]
    }
   ],
   "source": [
    "# 2-2. 자손 탐색\n",
    "print(\"\\n2. 여러 단계 선택자:\")\n",
    "elements2 = soup.select(\"body p.text\")\n",
    "for elem in elements2:\n",
    "   print(f\"- {elem.text}\")"
   ]
  },
  {
   "cell_type": "code",
   "execution_count": 34,
   "metadata": {},
   "outputs": [
    {
     "name": "stdout",
     "output_type": "stream",
     "text": [
      "\n",
      "3. ID 선택자:\n",
      "- 첫 번째 문단\n",
      "- 두 번째 문단\n"
     ]
    }
   ],
   "source": [
    "# 3. ID 선택자 사용\n",
    "print(\"\\n3. ID 선택자:\")\n",
    "elements4 = soup.select(\"#article p\")\n",
    "for elem in elements4:\n",
    "   print(f\"- {elem.text}\")"
   ]
  },
  {
   "cell_type": "code",
   "execution_count": 35,
   "metadata": {},
   "outputs": [
    {
     "name": "stdout",
     "output_type": "stream",
     "text": [
      "\n",
      "4. 여러 클래스 선택:\n",
      "- 두 번째 문단\n",
      "- 세 번째 문단\n"
     ]
    }
   ],
   "source": [
    "print(\"\\n4. 여러 클래스 선택:\")\n",
    "elements3 = soup.select(\"p.text.highlight\")\n",
    "for elem in elements3:\n",
    "   print(f\"- {elem.text}\")"
   ]
  },
  {
   "cell_type": "code",
   "execution_count": 36,
   "metadata": {},
   "outputs": [
    {
     "name": "stdout",
     "output_type": "stream",
     "text": [
      "\n",
      "5. 속성 선택자:\n",
      "- 추가 정보\n"
     ]
    }
   ],
   "source": [
    "# 5. 속성 선택자 사용\n",
    "print(\"\\n5. 속성 선택자:\")\n",
    "elements5 = soup.select(\"[data-type='info']\")\n",
    "for elem in elements5:\n",
    "   print(f\"- {elem.text}\")  # 추가 정보 출력"
   ]
  },
  {
   "cell_type": "code",
   "execution_count": 37,
   "metadata": {},
   "outputs": [
    {
     "name": "stdout",
     "output_type": "stream",
     "text": [
      "\n",
      "6. 복합 선택자:\n",
      "- 두 번째 문단\n"
     ]
    }
   ],
   "source": [
    "# 6. 여러 선택자 조합 사용\n",
    "print(\"\\n6. 복합 선택자:\")\n",
    "elements6 = soup.select(\"div.content > p.text#second\")\n",
    "for elem in elements6:\n",
    "   print(f\"- {elem.text}\")  # 두 번째 문단 출력"
   ]
  },
  {
   "cell_type": "code",
   "execution_count": 40,
   "metadata": {},
   "outputs": [
    {
     "name": "stdout",
     "output_type": "stream",
     "text": [
      "\n",
      "7. 속성과 텍스트 값:\n",
      "- id: main, text: 메인 컨테이너\n",
      "- id: sub, text: 서브 컨테이너\n",
      "- id: None, text: 푸터 컨테이너\n"
     ]
    }
   ],
   "source": [
    "# 7. 속성과 텍스트 값 가져오기\n",
    "print(\"\\n7. 속성과 텍스트 값:\")\n",
    "elements7 = soup.select(\"div.container\")\n",
    "for elem in elements7:\n",
    "   print(f\"- id: {elem.get('id')}, text: {elem.text}\")"
   ]
  }
 ],
 "metadata": {
  "kernelspec": {
   "display_name": "Python 3",
   "language": "python",
   "name": "python3"
  },
  "language_info": {
   "codemirror_mode": {
    "name": "ipython",
    "version": 3
   },
   "file_extension": ".py",
   "mimetype": "text/x-python",
   "name": "python",
   "nbconvert_exporter": "python",
   "pygments_lexer": "ipython3",
   "version": "3.9.13"
  }
 },
 "nbformat": 4,
 "nbformat_minor": 2
}
