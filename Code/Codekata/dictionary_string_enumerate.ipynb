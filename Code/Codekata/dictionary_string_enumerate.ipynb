{
 "cells": [
  {
   "cell_type": "markdown",
   "metadata": {},
   "source": [
    "문제 설명\n",
    "---\n",
    "문자열 s가 주어졌을 때, s의 각 위치마다 자신보다 앞에 나왔으면서, 자신과 가장 가까운 곳에 있는 같은 글자가 어디 있는지 알고 싶습니다.  \n",
    "예를 들어, s=\"banana\"라고 할 때,  각 글자들을 왼쪽부터 오른쪽으로 읽어 나가면서 다음과 같이 진행할 수 있습니다.  \n",
    "\n",
    "b는 처음 나왔기 때문에 자신의 앞에 같은 글자가 없습니다. 이는 -1로 표현합니다.  \n",
    "a는 처음 나왔기 때문에 자신의 앞에 같은 글자가 없습니다. 이는 -1로 표현합니다.  \n",
    "n은 처음 나왔기 때문에 자신의 앞에 같은 글자가 없습니다. 이는 -1로 표현합니다.  \n",
    "a는 자신보다 두 칸 앞에 a가 있습니다. 이는 2로 표현합니다.  \n",
    "n도 자신보다 두 칸 앞에 n이 있습니다. 이는 2로 표현합니다.  \n",
    "a는 자신보다 두 칸, 네 칸 앞에 a가 있습니다. 이 중 가까운 것은 두 칸 앞이고, 이는 2로 표현합니다.  \n",
    "따라서 최종 결과물은 [-1, -1, -1, 2, 2, 2]가 됩니다.  \n",
    "\n",
    "문자열 s이 주어질 때, 위와 같이 정의된 연산을 수행하는 함수 solution을 완성해주세요.  \n",
    "\n",
    "제한사항  \n",
    "---\n",
    "1 ≤ s의 길이 ≤ 10,000  \n",
    "s은 영어 소문자로만 이루어져 있습니다.  \n",
    "\n",
    "입출력 예\n",
    "---\n",
    "s\tresult\n",
    "\"banana\"\t[-1, -1, -1, 2, 2, 2]\n",
    "\"foobar\"\t[-1, -1, 1, -1, -1, -1]"
   ]
  },
  {
   "cell_type": "code",
   "execution_count": 2,
   "metadata": {},
   "outputs": [
    {
     "name": "stdout",
     "output_type": "stream",
     "text": [
      "{'b': 0}\n",
      "{'b': 0, 'a': 1}\n",
      "{'b': 0, 'a': 1, 'n': 2}\n",
      "{'b': 0, 'a': 3, 'n': 2}\n",
      "{'b': 0, 'a': 3, 'n': 4}\n",
      "{'b': 0, 'a': 5, 'n': 4}\n"
     ]
    },
    {
     "data": {
      "text/plain": [
       "[-1, -1, -1, 2, 2, 2]"
      ]
     },
     "execution_count": 2,
     "metadata": {},
     "output_type": "execute_result"
    }
   ],
   "source": [
    "def solution(s):\n",
    "    # 각 문자의 마지막 위치를 저장할 딕셔너리\n",
    "    last_seen = {}\n",
    "    answer = []\n",
    "    \n",
    "    for i, char in enumerate(s):\n",
    "        if char in last_seen:\n",
    "            # 해당 문자가 이미 나온 경우, 가장 가까운 거리 계산\n",
    "            answer.append(i - last_seen[char])\n",
    "        else:\n",
    "            # 처음 나온 문자일 경우\n",
    "            answer.append(-1)\n",
    "        \n",
    "        # 해당 문자의 현재 위치 기록\n",
    "        last_seen[char] = i\n",
    "        print(last_seen)\n",
    "    return answer\n",
    "\n",
    "solution(\"banana\")"
   ]
  }
 ],
 "metadata": {
  "kernelspec": {
   "display_name": "myenv1014",
   "language": "python",
   "name": "python3"
  },
  "language_info": {
   "codemirror_mode": {
    "name": "ipython",
    "version": 3
   },
   "file_extension": ".py",
   "mimetype": "text/x-python",
   "name": "python",
   "nbconvert_exporter": "python",
   "pygments_lexer": "ipython3",
   "version": "3.12.7"
  }
 },
 "nbformat": 4,
 "nbformat_minor": 2
}
