{
 "cells": [
  {
   "cell_type": "markdown",
   "metadata": {},
   "source": [
    "**문제 설명**\n",
    "---\n",
    "정수 배열 numbers가 주어집니다. numbers에서 서로 다른 인덱스에 있는 두 개의 수를 뽑아 더해서 만들 수 있는 모든 수를 배열에 오름차순으로 담아 return 하도록 solution 함수를 완성해주세요.  \n",
    "\n",
    "**제한사항**\n",
    "---\n",
    "numbers의 길이는 2 이상 100 이하입니다.  \n",
    "numbers의 모든 수는 0 이상 100 이하입니다.  \n",
    "\n",
    "**입출력 예**\n",
    "---\n",
    "numbers    \tresult  \n",
    "[2,1,3,4,1]\t[2,3,4,5,6,7]  \n",
    "[5,0,2,7]\t[2,5,7,9,12]  \n",
    "\n",
    "**입출력 예 #1**\n",
    "---\n",
    "2 = 1 + 1 입니다. (1이 numbers에 두 개 있습니다.)  \n",
    "3 = 2 + 1 입니다.  \n",
    "4 = 1 + 3 입니다.  \n",
    "5 = 1 + 4 = 2 + 3 입니다.  \n",
    "6 = 2 + 4 입니다.  \n",
    "7 = 3 + 4 입니다.  \n",
    "따라서 [2,3,4,5,6,7] 을 return 해야 합니다.  \n",
    "\n",
    "**입출력 예 #2**\n",
    "---\n",
    "2 = 0 + 2 입니다.  \n",
    "5 = 5 + 0 입니다.  \n",
    "7 = 0 + 7 = 5 + 2 입니다.  \n",
    "9 = 2 + 7 입니다.  \n",
    "12 = 5 + 7 입니다.  \n",
    "따라서 [2,5,7,9,12] 를 return 해야 합니다.  "
   ]
  },
  {
   "cell_type": "code",
   "execution_count": 10,
   "metadata": {},
   "outputs": [
    {
     "data": {
      "text/plain": [
       "[3, 4, 5, 6, 7, 8, 9, 11, 12, 13, 14, 15]"
      ]
     },
     "execution_count": 10,
     "metadata": {},
     "output_type": "execute_result"
    }
   ],
   "source": [
    "from itertools import combinations\n",
    "\n",
    "def solution(nums):\n",
    "    pairs = list(combinations(nums, 2))\n",
    "\n",
    "    # 각 튜플의 두 값을 더한 결과를 set(집합) 형태로 묶어서 중복값 제거\n",
    "    sums = {x + y for x, y in pairs}\n",
    "    answer = list(sums)\n",
    "    answer.sort()\n",
    "    return answer\n",
    "\n",
    "solution([10, 5, 1, 2, 3, 4])"
   ]
  }
 ],
 "metadata": {
  "kernelspec": {
   "display_name": "myenv1014",
   "language": "python",
   "name": "python3"
  },
  "language_info": {
   "codemirror_mode": {
    "name": "ipython",
    "version": 3
   },
   "file_extension": ".py",
   "mimetype": "text/x-python",
   "name": "python",
   "nbconvert_exporter": "python",
   "pygments_lexer": "ipython3",
   "version": "3.12.7"
  }
 },
 "nbformat": 4,
 "nbformat_minor": 2
}
