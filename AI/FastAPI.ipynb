{
 "cells": [
  {
   "cell_type": "code",
   "execution_count": null,
   "metadata": {},
   "outputs": [],
   "source": [
    "# 서버 생성 예시\n",
    "# pip install fastapi\n",
    "\n",
    "from fastapi import FastAPI\n",
    "\n",
    "app = FastAPI()\n",
    "\n",
    "# 터미널 창에서 uvicorn 파일이름:app --reload 시 서버 실행\n",
    "# http://127.0.0.1:8000/docs 에서 해당 웹페이지의 경로들 확인 가능 (/test 등..)\n",
    "\n",
    "@app.get(\"/\") # 도메인의 루트 경로 (기본 경로 http://127.0.0.1:8000/ 에서 실행)\n",
    "def read_root():\n",
    "    return {\"message\": \"Hello World!\"}\n",
    "\n",
    "@app.get(\"/test\") #  http://127.0.0.1:8000/test 경로에서 실행할 파일\n",
    "def read_root():\n",
    "    return {\"message\": \"This is test Message.\"}"
   ]
  }
 ],
 "metadata": {
  "kernelspec": {
   "display_name": "myenv1014",
   "language": "python",
   "name": "python3"
  },
  "language_info": {
   "codemirror_mode": {
    "name": "ipython",
    "version": 3
   },
   "file_extension": ".py",
   "mimetype": "text/x-python",
   "name": "python",
   "nbconvert_exporter": "python",
   "pygments_lexer": "ipython3",
   "version": "3.12.7"
  }
 },
 "nbformat": 4,
 "nbformat_minor": 2
}
