{
 "cells": [
  {
   "cell_type": "code",
   "execution_count": null,
   "metadata": {},
   "outputs": [],
   "source": [
    "# 4. fast ai\n",
    "# pip install fastai\n",
    "\n",
    "from fastai import *\n",
    "\n",
    "# 데이터셋 로드\n",
    "path = untar_data(URLs.PETS)  # PETS 데이터셋 다운로드 및 압축 해제\n",
    "path_imgs = path/'images'\n",
    "\n",
    "# 이미지 파일 라벨링 함수 정의\n",
    "def is_cat(x): return x[0].isupper()\n",
    "\n",
    "# 데이터블록 정의\n",
    "dls = ImageDataLoaders.from_name_func(\n",
    "    path_imgs, get_image_files(path_imgs), valid_pct=0.2, seed=42,\n",
    "    label_func=is_cat, item_tfms=Resize(224))\n",
    "\n",
    "# 데이터셋 확인\n",
    "dls.show_batch(max_n=9, figsize=(7, 6))\n",
    "\n",
    "# ResNet34 사전 학습된 모델을 사용해 학습기 생성\n",
    "learn = cnn_learner(dls, resnet34, metrics=error_rate)\n",
    "\n",
    "#학습률 찾기 (최적의 학습률을 자동으로 탐색)\n",
    "learn.lr_find()\n",
    "\n",
    "#모델 학습 (사전 학습된 모델에 대해 파인 튜닝)\n",
    "learn.fine_tune(3)\n",
    "\n",
    "#모델 평가\n",
    "learn.show_results()\n",
    "\n",
    "#혼동 행렬 (Confusion Matrix) 출력\n",
    "interp = ClassificationInterpretation.from_learner(learn)\n",
    "interp.plot_confusion_matrix()"
   ]
  }
 ],
 "metadata": {
  "kernelspec": {
   "display_name": "myenv1014",
   "language": "python",
   "name": "python3"
  },
  "language_info": {
   "name": "python",
   "version": "3.12.7"
  }
 },
 "nbformat": 4,
 "nbformat_minor": 2
}
