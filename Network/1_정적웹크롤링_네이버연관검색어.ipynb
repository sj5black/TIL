{
 "cells": [
  {
   "cell_type": "markdown",
   "metadata": {},
   "source": [
    "# 네이버 연관검색어 수집하기"
   ]
  },
  {
   "cell_type": "markdown",
   "metadata": {},
   "source": [
    "## 1. 필요한 라이브러리 설치 및 임포트"
   ]
  },
  {
   "cell_type": "code",
   "execution_count": 1,
   "metadata": {},
   "outputs": [
    {
     "name": "stdout",
     "output_type": "stream",
     "text": [
      "Requirement already satisfied: requests in c:\\users\\ssafy\\appdata\\local\\programs\\python\\python39\\lib\\site-packages (2.32.3)\n",
      "Requirement already satisfied: charset-normalizer<4,>=2 in c:\\users\\ssafy\\appdata\\local\\programs\\python\\python39\\lib\\site-packages (from requests) (3.3.2)\n",
      "Requirement already satisfied: idna<4,>=2.5 in c:\\users\\ssafy\\appdata\\local\\programs\\python\\python39\\lib\\site-packages (from requests) (3.6)\n",
      "Requirement already satisfied: urllib3<3,>=1.21.1 in c:\\users\\ssafy\\appdata\\local\\programs\\python\\python39\\lib\\site-packages (from requests) (2.2.1)\n",
      "Requirement already satisfied: certifi>=2017.4.17 in c:\\users\\ssafy\\appdata\\local\\programs\\python\\python39\\lib\\site-packages (from requests) (2024.2.2)\n"
     ]
    }
   ],
   "source": [
    "!pip install requests"
   ]
  },
  {
   "cell_type": "code",
   "execution_count": 1,
   "metadata": {},
   "outputs": [],
   "source": [
    "import requests"
   ]
  },
  {
   "cell_type": "markdown",
   "metadata": {},
   "source": [
    "## 2. API 요청에 필요한 기본 정보 설정\n",
    "- 네이버 API에 요청을 보내기 위한 기본 정보를 설정"
   ]
  },
  {
   "cell_type": "code",
   "execution_count": 4,
   "metadata": {},
   "outputs": [],
   "source": [
    "# 네이버 연관검색어 자동 완성 API URL\n",
    "base_url = \"https://ac.search.naver.com/nx/ac\"\n",
    "\n",
    "# 브라우저 정보 설정 (User-Agent)\n",
    "user_agent = \"Mozilla/5.0 (Windows NT 10.0; Win64; x64) AppleWebKit/537.36 (KHTML, like Gecko) Chrome/120.0.0.0 Safari/537.36\"\n",
    "headers = {\n",
    "    'User-Agent': user_agent\n",
    "}\n",
    "\n",
    "# 검색어 설정\n",
    "search_term = \"인공지능\"\n",
    "\n",
    "# API 요청 파라미터 설정\n",
    "params = {\n",
    "    'q': search_term,  # 검색어\n",
    "    'st': 100  # 검색 결과 개수\n",
    "}"
   ]
  },
  {
   "cell_type": "markdown",
   "metadata": {},
   "source": [
    "## 3. API 요청 보내기\n",
    "- 설정한 정보를 바탕으로 API에 요청"
   ]
  },
  {
   "cell_type": "code",
   "execution_count": 5,
   "metadata": {},
   "outputs": [
    {
     "name": "stdout",
     "output_type": "stream",
     "text": [
      "응답 상태 코드: 200\n",
      "\n",
      "응답 데이터:\n",
      "{'query': ['인공지능'], 'items': [[['인공지능'], ['인공지능 뜻'], ['인공지능 챗봇'], ['인공지능 관련주'], ['인공지능학과'], ['인공지능 스피커'], ['인공지능 로봇'], ['인공지능 윤리'], ['인공지능 단점'], ['인공지능 전문가']]]}\n"
     ]
    }
   ],
   "source": [
    "try:\n",
    "    # API 요청 보내기\n",
    "    response = requests.get(base_url, params=params, headers=headers)\n",
    "    \n",
    "    # 응답 상태 코드 확인\n",
    "    print(f\"응답 상태 코드: {response.status_code}\")\n",
    "    \n",
    "    # JSON 형식의 응답 데이터 확인\n",
    "    data = response.json()\n",
    "    print(\"\\n응답 데이터:\")\n",
    "    print(data)\n",
    "    \n",
    "except requests.exceptions.RequestException as e:\n",
    "    print(f\"에러 발생: {e}\")"
   ]
  },
  {
   "cell_type": "markdown",
   "metadata": {},
   "source": [
    "## 4. 연관검색어 추출하기\n",
    "- 응답 데이터에서 연관검색어만 추출"
   ]
  },
  {
   "cell_type": "code",
   "execution_count": 6,
   "metadata": {},
   "outputs": [
    {
     "name": "stdout",
     "output_type": "stream",
     "text": [
      "\n",
      "'인공지능'의 연관검색어:\n",
      "1. 인공지능\n",
      "2. 인공지능 뜻\n",
      "3. 인공지능 챗봇\n",
      "4. 인공지능 관련주\n",
      "5. 인공지능학과\n",
      "6. 인공지능 스피커\n",
      "7. 인공지능 로봇\n",
      "8. 인공지능 윤리\n",
      "9. 인공지능 단점\n",
      "10. 인공지능 전문가\n"
     ]
    }
   ],
   "source": [
    "# 연관검색어 리스트 추출\n",
    "related_searches = [item[0] for item in data['items'][0]]\n",
    "\n",
    "# 결과 출력\n",
    "print(f\"\\n'{search_term}'의 연관검색어:\")\n",
    "for i, term in enumerate(related_searches, 1):\n",
    "    print(f\"{i}. {term}\")"
   ]
  },
  {
   "cell_type": "markdown",
   "metadata": {},
   "source": [
    "## 5. 재사용성을 위한 함수화 및 완성 코드"
   ]
  },
  {
   "cell_type": "code",
   "execution_count": 7,
   "metadata": {},
   "outputs": [],
   "source": [
    "import requests\n",
    "\n",
    "def get_related_searches(search_term):\n",
    "    \"\"\"\n",
    "    네이버 연관검색어를 가져오는 함수\n",
    "    Args:\n",
    "        search_term (str): 검색하고자 하는 단어\n",
    "    Returns:\n",
    "        list: 연관검색어 리스트\n",
    "    \"\"\"\n",
    "\n",
    "    #사용자 User-Agent \n",
    "    user_agent = \"Mozilla/5.0 (Windows NT 10.0; Win64; x64) AppleWebKit/537.36 (KHTML, like Gecko) Chrome/120.0.0.0 Safari/537.36\"\n",
    "    headers =  {\n",
    "        'User-Agent': user_agent\n",
    "    }\n",
    "\n",
    "    # 네이버 자동완성 API URL\n",
    "    base_url = \"https://ac.search.naver.com/nx/ac\"\n",
    "    \n",
    "    # 검색어를 URL 인코딩하여 파라미터 구성\n",
    "    params = {\n",
    "        'q': search_term,\n",
    "        'st': 100\n",
    "    }\n",
    "    \n",
    "    try:\n",
    "        # API 요청\n",
    "        response = requests.get(base_url, params=params, headers=headers)\n",
    "\n",
    "        # JSON 응답 파싱\n",
    "        data = response.json()\n",
    "        print(data)\n",
    "        # 연관검색어 추출 (items[0]의 각 항목의 첫번째 요소)\n",
    "        related_searches = [item[0] for item in data['items'][0]]\n",
    "        return related_searches\n",
    "        \n",
    "    except requests.exceptions.RequestException as e:\n",
    "        print(f\"에러 발생: {e}\")\n",
    "        return []"
   ]
  },
  {
   "cell_type": "code",
   "execution_count": 9,
   "metadata": {},
   "outputs": [
    {
     "name": "stdout",
     "output_type": "stream",
     "text": [
      "<< 네이버 연관 검색어 가져오기 >>\n",
      "{'query': ['뉴진스'], 'items': [[['뉴진스'], ['뉴진스 해체'], ['뉴진스 민지'], ['뉴진스 하니'], ['뉴진스 해린'], ['뉴진스 빼빼로'], ['뉴진스님'], ['뉴진스 혜인'], ['뉴진스 다니엘'], ['뉴진스 앨범']]]}\n",
      "\n",
      "연관검색어:\n",
      "1. 뉴진스\n",
      "2. 뉴진스 해체\n",
      "3. 뉴진스 민지\n",
      "4. 뉴진스 하니\n",
      "5. 뉴진스 해린\n",
      "6. 뉴진스 빼빼로\n",
      "7. 뉴진스님\n",
      "8. 뉴진스 혜인\n",
      "9. 뉴진스 다니엘\n",
      "10. 뉴진스 앨범\n"
     ]
    }
   ],
   "source": [
    "print(\"<< 네이버 연관 검색어 가져오기 >>\")\n",
    "search_term = \"뉴진스\"\n",
    "\n",
    "# 연관검색어 가져오기\n",
    "related_terms = get_related_searches(search_term)\n",
    "\n",
    "# 결과 출력\n",
    "if related_terms:\n",
    "    print(\"\\n연관검색어:\")\n",
    "    for i, term in enumerate(related_terms, 1):\n",
    "        print(f\"{i}. {term}\")\n",
    "else:\n",
    "    print(\"연관검색어를 가져오는데 실패했습니다.\")"
   ]
  }
 ],
 "metadata": {
  "kernelspec": {
   "display_name": "myenv1014",
   "language": "python",
   "name": "python3"
  },
  "language_info": {
   "codemirror_mode": {
    "name": "ipython",
    "version": 3
   },
   "file_extension": ".py",
   "mimetype": "text/x-python",
   "name": "python",
   "nbconvert_exporter": "python",
   "pygments_lexer": "ipython3",
   "version": "3.12.7"
  }
 },
 "nbformat": 4,
 "nbformat_minor": 2
}
